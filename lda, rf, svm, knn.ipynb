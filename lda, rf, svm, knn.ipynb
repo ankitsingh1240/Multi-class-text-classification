{
 "cells": [
  {
   "cell_type": "code",
   "execution_count": 1,
   "metadata": {},
   "outputs": [
    {
     "data": {
      "text/plain": [
       "'C:\\\\Users\\\\reliance\\\\Desktop\\\\MARKETING PROJECT'"
      ]
     },
     "execution_count": 1,
     "metadata": {},
     "output_type": "execute_result"
    }
   ],
   "source": [
    "import pandas as pd\n",
    "import numpy as np\n",
    "import matplotlib.pyplot as plt\n",
    "# Libraries for text preprocessing\n",
    "import re\n",
    "import nltk\n",
    "\n",
    "#nltk.download('stopwords')\n",
    "from nltk.corpus import stopwords\n",
    "from nltk.stem.porter import PorterStemmer\n",
    "from nltk.tokenize import RegexpTokenizer#nltk.download('wordnet') \n",
    "from nltk.stem.wordnet import WordNetLemmatizer\n",
    "import os\n",
    "os.getcwd()"
   ]
  },
  {
   "cell_type": "code",
   "execution_count": 2,
   "metadata": {},
   "outputs": [
    {
     "data": {
      "text/html": [
       "<div>\n",
       "<style scoped>\n",
       "    .dataframe tbody tr th:only-of-type {\n",
       "        vertical-align: middle;\n",
       "    }\n",
       "\n",
       "    .dataframe tbody tr th {\n",
       "        vertical-align: top;\n",
       "    }\n",
       "\n",
       "    .dataframe thead th {\n",
       "        text-align: right;\n",
       "    }\n",
       "</style>\n",
       "<table border=\"1\" class=\"dataframe\">\n",
       "  <thead>\n",
       "    <tr style=\"text-align: right;\">\n",
       "      <th></th>\n",
       "      <th>description</th>\n",
       "      <th>text</th>\n",
       "      <th>date</th>\n",
       "      <th>keywords</th>\n",
       "      <th>summary</th>\n",
       "      <th>url</th>\n",
       "    </tr>\n",
       "  </thead>\n",
       "  <tbody>\n",
       "    <tr>\n",
       "      <th>0</th>\n",
       "      <td>5G hype won't close the digital divide</td>\n",
       "      <td>Dhara Singh/CNET\\n\\nTwelve miles from the hust...</td>\n",
       "      <td>2019-08-14 05:00:00-07:00</td>\n",
       "      <td>['speeds', 'close', 'digital', 'hype', 'servic...</td>\n",
       "      <td>\"Especially in Chicago [internet access] must ...</td>\n",
       "      <td>https://www.cnet.com//news/5g-hype-isnt-going-...</td>\n",
       "    </tr>\n",
       "    <tr>\n",
       "      <th>1</th>\n",
       "      <td>Doctor Who will stream on HBO Max</td>\n",
       "      <td>BBC\\n\\nDoctor Who will be streaming exclusivel...</td>\n",
       "      <td>2019-08-01 12:25:00-07:00</td>\n",
       "      <td>['series', 'max', 'stream', 'cw', 'coming', 'd...</td>\n",
       "      <td>BBCDoctor Who will be streaming exclusively on...</td>\n",
       "      <td>https://www.cnet.com//news/doctor-who-will-str...</td>\n",
       "    </tr>\n",
       "    <tr>\n",
       "      <th>2</th>\n",
       "      <td>Leaked dongle hints at end of the headphone ja...</td>\n",
       "      <td>Roland Quandt\\n\\nThe headphone jack on phones ...</td>\n",
       "      <td>2019-08-01 07:41:00-07:00</td>\n",
       "      <td>['samsungs', 'jack', 'dongle', 'samsung', 'rol...</td>\n",
       "      <td>Roland QuandtThe headphone jack on phones had ...</td>\n",
       "      <td>https://www.cnet.com//news/leaked-dongle-hints...</td>\n",
       "    </tr>\n",
       "    <tr>\n",
       "      <th>3</th>\n",
       "      <td>Apple ASMR videos are a pleasure for your eyes...</td>\n",
       "      <td>Geoffrey Morrison/CNET\\n\\nIf autonomous sensor...</td>\n",
       "      <td>2019-08-07 13:27:00-07:00</td>\n",
       "      <td>['apple', 'iphone', 'video', 'wood', 'videos',...</td>\n",
       "      <td>Geoffrey Morrison/CNETIf autonomous sensory me...</td>\n",
       "      <td>https://www.cnet.com//news/apple-asmr-videos-a...</td>\n",
       "    </tr>\n",
       "    <tr>\n",
       "      <th>4</th>\n",
       "      <td>Adobe Fresco shows oil and water(colors) do mix</td>\n",
       "      <td>Sarah Tew/CNET\\n\\nAdobe Fresco makes me wish I...</td>\n",
       "      <td>2019-08-12 06:00:04-07:00</td>\n",
       "      <td>['wish', 'really', 'mobile', 'adobe', 'fresco'...</td>\n",
       "      <td>Adobe credits Apple's latest graphics processo...</td>\n",
       "      <td>https://www.cnet.com//news/adobe-fresco-shows-...</td>\n",
       "    </tr>\n",
       "  </tbody>\n",
       "</table>\n",
       "</div>"
      ],
      "text/plain": [
       "                                         description  \\\n",
       "0             5G hype won't close the digital divide   \n",
       "1                  Doctor Who will stream on HBO Max   \n",
       "2  Leaked dongle hints at end of the headphone ja...   \n",
       "3  Apple ASMR videos are a pleasure for your eyes...   \n",
       "4    Adobe Fresco shows oil and water(colors) do mix   \n",
       "\n",
       "                                                text  \\\n",
       "0  Dhara Singh/CNET\\n\\nTwelve miles from the hust...   \n",
       "1  BBC\\n\\nDoctor Who will be streaming exclusivel...   \n",
       "2  Roland Quandt\\n\\nThe headphone jack on phones ...   \n",
       "3  Geoffrey Morrison/CNET\\n\\nIf autonomous sensor...   \n",
       "4  Sarah Tew/CNET\\n\\nAdobe Fresco makes me wish I...   \n",
       "\n",
       "                        date  \\\n",
       "0  2019-08-14 05:00:00-07:00   \n",
       "1  2019-08-01 12:25:00-07:00   \n",
       "2  2019-08-01 07:41:00-07:00   \n",
       "3  2019-08-07 13:27:00-07:00   \n",
       "4  2019-08-12 06:00:04-07:00   \n",
       "\n",
       "                                            keywords  \\\n",
       "0  ['speeds', 'close', 'digital', 'hype', 'servic...   \n",
       "1  ['series', 'max', 'stream', 'cw', 'coming', 'd...   \n",
       "2  ['samsungs', 'jack', 'dongle', 'samsung', 'rol...   \n",
       "3  ['apple', 'iphone', 'video', 'wood', 'videos',...   \n",
       "4  ['wish', 'really', 'mobile', 'adobe', 'fresco'...   \n",
       "\n",
       "                                             summary  \\\n",
       "0  \"Especially in Chicago [internet access] must ...   \n",
       "1  BBCDoctor Who will be streaming exclusively on...   \n",
       "2  Roland QuandtThe headphone jack on phones had ...   \n",
       "3  Geoffrey Morrison/CNETIf autonomous sensory me...   \n",
       "4  Adobe credits Apple's latest graphics processo...   \n",
       "\n",
       "                                                 url  \n",
       "0  https://www.cnet.com//news/5g-hype-isnt-going-...  \n",
       "1  https://www.cnet.com//news/doctor-who-will-str...  \n",
       "2  https://www.cnet.com//news/leaked-dongle-hints...  \n",
       "3  https://www.cnet.com//news/apple-asmr-videos-a...  \n",
       "4  https://www.cnet.com//news/adobe-fresco-shows-...  "
      ]
     },
     "execution_count": 2,
     "metadata": {},
     "output_type": "execute_result"
    }
   ],
   "source": [
    "data= pd.read_csv(\"data.csv\")\n",
    "data.iloc[30,2]\n",
    "data.head()"
   ]
  },
  {
   "cell_type": "code",
   "execution_count": 3,
   "metadata": {},
   "outputs": [
    {
     "data": {
      "text/html": [
       "<div>\n",
       "<style scoped>\n",
       "    .dataframe tbody tr th:only-of-type {\n",
       "        vertical-align: middle;\n",
       "    }\n",
       "\n",
       "    .dataframe tbody tr th {\n",
       "        vertical-align: top;\n",
       "    }\n",
       "\n",
       "    .dataframe thead th {\n",
       "        text-align: right;\n",
       "    }\n",
       "</style>\n",
       "<table border=\"1\" class=\"dataframe\">\n",
       "  <thead>\n",
       "    <tr style=\"text-align: right;\">\n",
       "      <th></th>\n",
       "      <th>text</th>\n",
       "      <th>word_count</th>\n",
       "    </tr>\n",
       "  </thead>\n",
       "  <tbody>\n",
       "    <tr>\n",
       "      <th>0</th>\n",
       "      <td>Dhara Singh/CNET\\n\\nTwelve miles from the hust...</td>\n",
       "      <td>2297</td>\n",
       "    </tr>\n",
       "    <tr>\n",
       "      <th>1</th>\n",
       "      <td>BBC\\n\\nDoctor Who will be streaming exclusivel...</td>\n",
       "      <td>170</td>\n",
       "    </tr>\n",
       "    <tr>\n",
       "      <th>2</th>\n",
       "      <td>Roland Quandt\\n\\nThe headphone jack on phones ...</td>\n",
       "      <td>192</td>\n",
       "    </tr>\n",
       "    <tr>\n",
       "      <th>3</th>\n",
       "      <td>Geoffrey Morrison/CNET\\n\\nIf autonomous sensor...</td>\n",
       "      <td>206</td>\n",
       "    </tr>\n",
       "    <tr>\n",
       "      <th>4</th>\n",
       "      <td>Sarah Tew/CNET\\n\\nAdobe Fresco makes me wish I...</td>\n",
       "      <td>595</td>\n",
       "    </tr>\n",
       "  </tbody>\n",
       "</table>\n",
       "</div>"
      ],
      "text/plain": [
       "                                                text  word_count\n",
       "0  Dhara Singh/CNET\\n\\nTwelve miles from the hust...        2297\n",
       "1  BBC\\n\\nDoctor Who will be streaming exclusivel...         170\n",
       "2  Roland Quandt\\n\\nThe headphone jack on phones ...         192\n",
       "3  Geoffrey Morrison/CNET\\n\\nIf autonomous sensor...         206\n",
       "4  Sarah Tew/CNET\\n\\nAdobe Fresco makes me wish I...         595"
      ]
     },
     "execution_count": 3,
     "metadata": {},
     "output_type": "execute_result"
    }
   ],
   "source": [
    "data['word_count'] = data['text'].apply(lambda x: len(str(x).split(\" \")))\n",
    "data[['text','word_count']].head()"
   ]
  },
  {
   "cell_type": "code",
   "execution_count": 4,
   "metadata": {},
   "outputs": [
    {
     "data": {
      "text/plain": [
       "count    1535.000000\n",
       "mean      534.565472\n",
       "std       498.855413\n",
       "min         3.000000\n",
       "25%       254.000000\n",
       "50%       350.000000\n",
       "75%       606.000000\n",
       "max      3841.000000\n",
       "Name: word_count, dtype: float64"
      ]
     },
     "execution_count": 4,
     "metadata": {},
     "output_type": "execute_result"
    }
   ],
   "source": [
    "##Descriptive statistics of word counts\n",
    "data.word_count.describe()"
   ]
  },
  {
   "cell_type": "code",
   "execution_count": 5,
   "metadata": {},
   "outputs": [
    {
     "data": {
      "text/plain": [
       "the    40376\n",
       "to     21728\n",
       "a      20250\n",
       "and    19683\n",
       "of     17099\n",
       "dtype: int64"
      ]
     },
     "execution_count": 5,
     "metadata": {},
     "output_type": "execute_result"
    }
   ],
   "source": [
    "#Identify common words\n",
    "freq = pd.Series(' '.join(data['text']).split()).value_counts()[:5]\n",
    "freq"
   ]
  },
  {
   "cell_type": "code",
   "execution_count": 6,
   "metadata": {},
   "outputs": [
    {
     "data": {
      "text/plain": [
       "Fairy/Poison     1\n",
       "implications.    1\n",
       "Vans             1\n",
       "booked,          1\n",
       "day).\"           1\n",
       "Grit             1\n",
       "BDE,             1\n",
       "eternity,        1\n",
       "zipper,          1\n",
       "\"quickly         1\n",
       "dtype: int64"
      ]
     },
     "execution_count": 6,
     "metadata": {},
     "output_type": "execute_result"
    }
   ],
   "source": [
    "#Identify uncommon words\n",
    "freq1 =  pd.Series(' '.join(data\n",
    "         ['text']).split()).value_counts()[-10:]\n",
    "freq1"
   ]
  },
  {
   "cell_type": "code",
   "execution_count": 7,
   "metadata": {},
   "outputs": [],
   "source": [
    "##Creating a list of stop words and adding custom stopwords\n",
    "stop_words = set(stopwords.words(\"english\"))\n",
    "##Creating a list of custom stopwords\n",
    "new_words = [\"using\", \"show\", \"result\", \"large\", \"also\", \"iv\", \"one\", \"two\", \"new\", \"previously\", \"shown\"]\n",
    "stop_words = stop_words.union(new_words)"
   ]
  },
  {
   "cell_type": "code",
   "execution_count": 8,
   "metadata": {},
   "outputs": [],
   "source": [
    "corpus = []\n",
    "for i in range(0, len(data['text'])):\n",
    "    #Remove punctuations\n",
    "    text = re.sub('[^a-zA-Z]', ' ', data['text'][i])\n",
    "    #Convert to lowercase\n",
    "    text = text.lower()\n",
    "    #remove tags\n",
    "    text=re.sub(\"&lt;/?.*?&gt;\",\" &lt;&gt; \",text)\n",
    "    # remove special characters and digits\n",
    "    text=re.sub(\"(\\\\d|\\\\W)+\",\" \",text)\n",
    "    ##Convert to list from string\n",
    "    text = text.split()\n",
    "    ##Stemming\n",
    "    ps=PorterStemmer()    #Lemmatisation\n",
    "    lem = WordNetLemmatizer()\n",
    "    text = [lem.lemmatize(word) for word in text if not word in  \n",
    "            stop_words] \n",
    "    text = \" \".join(text)\n",
    "    corpus.append(text)"
   ]
  },
  {
   "cell_type": "code",
   "execution_count": 9,
   "metadata": {},
   "outputs": [
    {
     "data": {
      "text/plain": [
       "'dhara singh cnet twelve mile hustle bustle time square lie brooklyn neighborhood brownsville part york tourist ever see gone flashing light high tech billboard crossroad world instead story sleek building stand stark contrast bare industrial street surrounding district building york councilwoman alicka amprey samuel say experiencing issue altice optimum internet service past four year rain say service stop complaint internet service provider changed status quo city country conversation next best thing conversation always get something even half way decent said people even grocery store people amprey samuel suffering connection woe across greater brownsville ocean hill community represents brownsville alone resident say rely public wi fi free cheaper use connectivity option according recent report brooklyn public library even broadband like ampry samuel service often spotty hype g next generation mobile technology promise high speed time faster current g tech mask reality million american still waiting adequate broadband access kind resident afford internet service chance buying galaxy note plus g phone list nearly third u household million people lack broadband internet connection least megabit per second according market research firm npd rural household especially losing side digital divide five rural household broadband connection issue taken democratic presidential nominee sen elizabeth warren last week called billion rural broadband program rural problem amprey samuel know life brooklyn populated part america biggest city even reliable internet connection rare playing watch g mean fast downloads phone york chicago whole community risk left behind low income population lack adequate internet access absence home internet connection lead unemployment homelessness adult apply job online tap tech economy child erosion competitive edge peer access educational resource turn daily homework assignment economy move toward high tech job limited cellphone data plan cut city help chicago first city world get g entire neighborhood nearly half resident still lack internet subscription sprint boast consistent g speed megabit per second verizon surpass gigabit per second according cnet speed test chicago west englewood resident still lack household internet access community group like chicktech chicago come local nonprofit primarily serf expose female student stem workshop let stay hour complete homework assignment dhara singh cnet several time workshop ended sit several student homework workshop said nicole frapolly founder chapter especially chicago internet access must basic human right much homework done online frapolly belief partnership chicago would allow extend effort school spokesman city respond request comment even area city council responsive concern equitable internet access like brooklyn conversation provider work progress discussion around low cost internet plan necessarily low cost instead incentive sign time discount ampry samuel said interview amprey samuel talked altice york mayor office need reliable inexpensive broadband district say nothing come conversation optimistic g rolling area home broadband connection improving anytime soon verizon started installing high speed fios york skipped district city sued verizon failing deploy fiber city million household despite promise case ongoing today even basic connection even talking next level connectivity york councilwoman alicka amprey samuel today even basic connection even talking next level connectivity ampry samuel said verizon declined comment litigation altice said already offer low cost service called altice advantage internet service anywhere brooklyn speed megabit per second speed monthly price however enroll discounted program household need participate national school lunch program attend york city public school receive supplemental security income fulfill listed requirement federal government role york city government carrier enable high internet speed biggest problem making sure every part country broadband national map used track access faulty expert say greta byrum co director digital equity laboratory school york say previous misleading data fcc broadband map contributes digital divide york data fcc collect broadband provider aggregated census tract byrum said self reported testing enforcement provider byrum referring form data internet service provider must report twice year th fcc form describes isp coverage advertised speed across u fcc verify accuracy data additionally single census block usually around resident home access broadband service whole area considered covered response public complaint fcc pledged improve broadband map whether building network technology boast different speed bridge digital divide announced phase reverse auction company target unserved location census block additionally create crowd sourcing portal gather input consumer well state local tribal government office economics analytics issue notice neither york city chief technology officer fcc responded request comment cheaper equitable chicago home get online according city latest technology access adoption study low income resident city five time likely internet access karen mossenberger professor school public affair arizona state university conducted research chicago smart city city program close digital divide say absence digital literacy coupled already existing unpaid bill low income household make difficult take advantage cheaper broadband household qualify broadband owe bill lot low income household eligible said mossenberger referring program comcast internet essential promise monthly fee slow speed contribute inequity discounted program often offer speed fall well megabit per second threshold seattle comcast internet essential simply internet wave boast price month however offer speed megabit per second megabit per second respectively additionally internet essential user get access xfinity public wi fi network hour per week full paying customer get unlimited access long term problem speed fine someone homework basic need digitally equitable someone access everybody else said alice lawson broadband cable program manager seattle resident need least need least mbps internet speed stream video hdr download file participate cloud sharing efficiently absence fast internet service sole factor limiting broadband coverage seattle city partner carrier make affordable broadband option low income resident sometimes aware program people speak language might get information affordable internet program might able compare plan price address technical issue said karie wong coordinator chinese information service center work seattle help immigrant vietnam even russia gain internet access comcast spokeswoman trinity thorpe lubneuski said internet essential already offer marketing material different language call center handle different language g reaching leading mobile carrier verizon mobile shying home broadband space g home service still early stage low income american access anytime soon may far stretch imagination verizon largest carrier customer home g service select area sacramento los angeles houston indianapolis asked g prospect low income community city york kevin king spokesman verizon rule goal g building kind process goal nationwide g network said dhara singh cnet competitor mobile receiving justice department approval merge sprint last month aim cover half u household g broadband service excess megabit per second committed launching home g broadband service although light detail underserved area march mentioned launching limited lte home internet service hope connect home end year sprint however currently g smart hub htc monthly price per month give user gb data user connect device wifi established milestone cover rural america g low band spectrum three year six year mobile ceo john legere said earlier press release verizon mobile take time spreading home g broadband smaller player atlas network tried take reign spreading home broadband atlas local seattle tried reach low income population negotiation city atlas network wonderful company interested affordability working team affordable housing lawson said however attention turn major g mobile carrier lawson say city simply leverage ensure carrier verizon mobile disperse small cell capture g signal throughout city especially fcc mandating shorter period time review deployment small cell control ability collect fee taken away local community le ability u collect fee put back public benefit low income community say david keyes seattle digital equity program manager hanging legislative thread clayton bank co founder silicon harlem company aim make group namesake upper manhattan neighborhood technology hub remains optimistic bridging digital divide reason silicon harlem brokered deal spectrum cable internet arm charter communication provide internet service residential building harlem month discounted standard rate dhara singh cnet crisis bank said crisis solve bank keyes faith digital equity act introduced sen patty murray washington act establish grant program administered national telecommunication information administration spur effort digital equity even presidential candidate warren recently announced plan increasing broadband coverage unserved area promised million federal funding fiber structure necessary bring high speed broadband want allow local community build broadband network twenty six state currenly prohibit city owned network end president warren wrote last week medium blog post make sure every home america fiber broadband connection price family afford mean publicly owned operated network giant isps running away taxpayer dollar optimism however strong may take time trickle amprey samuel district le mile office commuter step l atlantic avenue station bright magenta pink mobile billboard state bold font nobody connects yorkers mobile hotspot capped data serve temporary solution family wishing connect internet g make mark across america neither library next gen phone replace home broadband alicka amprey samuel district issue availability grocery store take precedence next generation technology'"
      ]
     },
     "execution_count": 9,
     "metadata": {},
     "output_type": "execute_result"
    }
   ],
   "source": [
    "corpus[0]"
   ]
  },
  {
   "cell_type": "code",
   "execution_count": 16,
   "metadata": {},
   "outputs": [
    {
     "name": "stdout",
     "output_type": "stream",
     "text": [
      "<wordcloud.wordcloud.WordCloud object at 0x0000020D20A31F28>\n"
     ]
    },
    {
     "data": {
      "image/png": "[encoded data removed]",
      "text/plain": [
       "<Figure size 936x576 with 1 Axes>"
      ]
     },
     "metadata": {},
     "output_type": "display_data"
    }
   ],
   "source": [
    "#Word cloud\n",
    "from os import path\n",
    "from PIL import Image\n",
    "from wordcloud import WordCloud, STOPWORDS, ImageColorGenerator\n",
    "import matplotlib.pyplot as plt\n",
    "#% matplotlib inline\n",
    "wordcloud = WordCloud(background_color='pink',stopwords=stop_words,max_words=100,max_font_size=50, random_state=42).generate(str(corpus))\n",
    "print(wordcloud)\n",
    "fig = plt.figure(1)\n",
    "plt.imshow(wordcloud)\n",
    "plt.axis('off')\n",
    "plt.show()\n",
    "#fig.savefig(\"word1.png\", dpi=900)"
   ]
  },
  {
   "cell_type": "code",
   "execution_count": 17,
   "metadata": {},
   "outputs": [],
   "source": [
    "from sklearn.feature_extraction.text import CountVectorizer\n",
    "import re\n",
    "cv=CountVectorizer(max_df=0.8,stop_words=stop_words, max_features=10000, ngram_range=(1,3))\n",
    "X=cv.fit_transform(corpus)"
   ]
  },
  {
   "cell_type": "code",
   "execution_count": 18,
   "metadata": {},
   "outputs": [
    {
     "data": {
      "text/plain": [
       "['singh',\n",
       " 'cnet',\n",
       " 'mile',\n",
       " 'time',\n",
       " 'square',\n",
       " 'lie',\n",
       " 'brooklyn',\n",
       " 'neighborhood',\n",
       " 'part',\n",
       " 'york']"
      ]
     },
     "execution_count": 18,
     "metadata": {},
     "output_type": "execute_result"
    }
   ],
   "source": [
    "list(cv.vocabulary_.keys())[:10]"
   ]
  },
  {
   "cell_type": "code",
   "execution_count": 19,
   "metadata": {},
   "outputs": [],
   "source": [
    "#Most frequently occuring words\n",
    "def get_top_n_words(corpus, n=None):\n",
    "    vec = CountVectorizer().fit(corpus)\n",
    "    bag_of_words = vec.transform(corpus)\n",
    "    sum_words = bag_of_words.sum(axis=0) \n",
    "    words_freq = [(word, sum_words[0, idx]) for word, idx in      \n",
    "                   vec.vocabulary_.items()]\n",
    "    words_freq =sorted(words_freq, key = lambda x: x[1], \n",
    "                       reverse=True)\n",
    "    return words_freq[:n]"
   ]
  },
  {
   "cell_type": "code",
   "execution_count": 20,
   "metadata": {},
   "outputs": [],
   "source": [
    "#Convert most freq words to dataframe for plotting bar plot\n",
    "top_words = get_top_n_words(corpus, n=20)\n",
    "top_df = pd.DataFrame(top_words)\n",
    "top_df.columns=[\"Word\", \"Freq\"]"
   ]
  },
  {
   "cell_type": "code",
   "execution_count": 21,
   "metadata": {},
   "outputs": [
    {
     "data": {
      "text/plain": [
       "[Text(0, 0, 'said'),\n",
       " Text(0, 0, 'like'),\n",
       " Text(0, 0, 'year'),\n",
       " Text(0, 0, 'company'),\n",
       " Text(0, 0, 'cnet'),\n",
       " Text(0, 0, 'time'),\n",
       " Text(0, 0, 'get'),\n",
       " Text(0, 0, 'apple'),\n",
       " Text(0, 0, 'phone'),\n",
       " Text(0, 0, 'first'),\n",
       " Text(0, 0, 'make'),\n",
       " Text(0, 0, 'watch'),\n",
       " Text(0, 0, 'google'),\n",
       " Text(0, 0, 'people'),\n",
       " Text(0, 0, 'may'),\n",
       " Text(0, 0, 'share'),\n",
       " Text(0, 0, 'service'),\n",
       " Text(0, 0, 'would'),\n",
       " Text(0, 0, 'say'),\n",
       " Text(0, 0, 'note')]"
      ]
     },
     "execution_count": 21,
     "metadata": {},
     "output_type": "execute_result"
    },
    {
     "data": {
      "image/png": "[encoded data removed]",
      "text/plain": [
       "<Figure size 936x576 with 1 Axes>"
      ]
     },
     "metadata": {},
     "output_type": "display_data"
    }
   ],
   "source": [
    "#Barplot of most freq words\n",
    "import seaborn as sns\n",
    "sns.set(rc={'figure.figsize':(13,8)})\n",
    "g = sns.barplot(x=\"Word\", y=\"Freq\", data=top_df)\n",
    "g.set_xticklabels(g.get_xticklabels(), rotation=30)"
   ]
  },
  {
   "cell_type": "code",
   "execution_count": null,
   "metadata": {},
   "outputs": [],
   "source": []
  },
  {
   "cell_type": "code",
   "execution_count": null,
   "metadata": {},
   "outputs": [],
   "source": []
  },
  {
   "cell_type": "code",
   "execution_count": 22,
   "metadata": {},
   "outputs": [],
   "source": [
    "from sklearn.feature_extraction.text import TfidfTransformer\n",
    " \n",
    "tfidf_transformer=TfidfTransformer(smooth_idf=True,use_idf=True)\n",
    "tfidf_transformer.fit(X)# get feature names\n",
    "feature_names=cv.get_feature_names()\n",
    " \n",
    "# fetch document for which keywords needs to be extracted\n",
    "doc=corpus[2]\n",
    " \n",
    "#generate tf-idf for the given document\n",
    "tf_idf_vector=tfidf_transformer.transform(cv.transform([doc]))"
   ]
  },
  {
   "cell_type": "code",
   "execution_count": 23,
   "metadata": {},
   "outputs": [
    {
     "data": {
      "text/plain": [
       "(1, 10000)"
      ]
     },
     "execution_count": 23,
     "metadata": {},
     "output_type": "execute_result"
    }
   ],
   "source": [
    "tf_idf_vector.shape"
   ]
  },
  {
   "cell_type": "code",
   "execution_count": 24,
   "metadata": {},
   "outputs": [],
   "source": [
    "#Function for sorting tf_idf in descending order\n",
    "from scipy.sparse import coo_matrix\n",
    "def sort_coo(coo_matrix):\n",
    "    tuples = zip(coo_matrix.col, coo_matrix.data)\n",
    "    return sorted(tuples, key=lambda x: (x[1], x[0]), reverse=True)\n",
    " \n",
    "def extract_topn_from_vector(feature_names, sorted_items, topn=10):\n",
    "    \"\"\"get the feature names and tf-idf score of top n items\"\"\"\n",
    "    \n",
    "    #use only topn items from vector\n",
    "    sorted_items = sorted_items[:topn]\n",
    "    score_vals = []\n",
    "    feature_vals = []\n",
    "    \n",
    "    # word index and corresponding tf-idf score\n",
    "    for idx, score in sorted_items:\n",
    "        \n",
    "        #keep track of feature name and its corresponding score\n",
    "        score_vals.append(round(score, 3))\n",
    "        feature_vals.append(feature_names[idx])\n",
    " #create a tuples of feature,score\n",
    "    #results = zip(feature_vals,score_vals)\n",
    "    results= {}\n",
    "    for idx in range(len(feature_vals)):\n",
    "        results[feature_vals[idx]]=score_vals[idx]\n",
    "    \n",
    "    return results\n"
   ]
  },
  {
   "cell_type": "code",
   "execution_count": 25,
   "metadata": {},
   "outputs": [
    {
     "name": "stdout",
     "output_type": "stream",
     "text": [
      "\n",
      "Abstract:\n",
      "roland quandt headphone jack phone good run like good thing eventually must end end seems finally arrived samsung upcoming galaxy note line last holdout trend ditching headphone jack appears samsung going note line leaked image shared thursday roland quandt sammobile seems pretty clear samsung planning mm headphone jack usb c dongle note plus dongle look like well headphone adapter different apple make iphones google make pixel signal end era showing samsung may indeed planning move without port going forward unclear samsung include dongle box like google charge separately like apple answer well samsung heavily rumored leaked next flagship likely need wait samsung unpacked event aug samsung immediately respond request comment\n",
      "\n",
      "Keywords:\n",
      "samsung 0.451\n",
      "dongle 0.296\n",
      "headphone 0.276\n",
      "headphone jack 0.233\n",
      "note line 0.204\n",
      "jack 0.201\n",
      "leaked 0.156\n",
      "planning 0.141\n",
      "note 0.133\n",
      "end 0.122\n",
      "seems 0.114\n",
      "like 0.111\n",
      "holdout 0.107\n",
      "samsung may 0.102\n",
      "mm headphone jack 0.1\n",
      "mm headphone 0.1\n",
      "going forward 0.099\n",
      "samsung unpacked event 0.097\n",
      "like good 0.097\n",
      "aug samsung 0.097\n",
      "line 0.096\n",
      "samsung unpacked 0.094\n",
      "google 0.093\n",
      "good thing 0.091\n",
      "apple 0.09\n"
     ]
    }
   ],
   "source": [
    "sorted_items=sort_coo(tf_idf_vector.tocoo())\n",
    "#sort the tf-idf vectors by descending order of scoressorted_items=sort_coo(tf_idf_vector.tocoo())#extract only the top n; n here is 10\n",
    "keywords=extract_topn_from_vector(feature_names,sorted_items,25)\n",
    " \n",
    "# now print the results\n",
    "print(\"\\nAbstract:\")\n",
    "print(doc)\n",
    "print(\"\\nKeywords:\")\n",
    "for k in keywords:\n",
    "    print(k,keywords[k])"
   ]
  },
  {
   "cell_type": "code",
   "execution_count": 26,
   "metadata": {},
   "outputs": [
    {
     "data": {
      "text/plain": [
       "\"Roland QuandtThe headphone jack on phones had a good run, but like all good things, it eventually must end.\\nThat end seems to have finally arrived with Samsung's upcoming Galaxy Note 10 line.\\nAfter being one of the last holdouts against the trend of ditching the headphone jack, it appears that Samsung is going to do just that for the Note 10 line.\\nIn leaked images shared Thursday by Roland Quandt and SamMobile, it seems pretty clear Samsung is planning a 3.5mm headphone jack to USB-C dongle for its new Note 10 and 10 Plus.\\nThe dongle itself looks like, well, a headphone adapter no different than what Apple makes for its iPhones or Google makes for its Pixels.\""
      ]
     },
     "execution_count": 26,
     "metadata": {},
     "output_type": "execute_result"
    }
   ],
   "source": [
    "data.iloc[2,4]"
   ]
  },
  {
   "cell_type": "code",
   "execution_count": 27,
   "metadata": {},
   "outputs": [
    {
     "data": {
      "text/plain": [
       "CountVectorizer(analyzer='word', binary=False, decode_error='strict',\n",
       "        dtype=<class 'numpy.int64'>, encoding='utf-8', input='content',\n",
       "        lowercase=True, max_df=1.0, max_features=None, min_df=1,\n",
       "        ngram_range=(1, 1), preprocessor=None, stop_words=None,\n",
       "        strip_accents=None, token_pattern='\\\\w{1,}', tokenizer=None,\n",
       "        vocabulary=None)"
      ]
     },
     "execution_count": 27,
     "metadata": {},
     "output_type": "execute_result"
    }
   ],
   "source": [
    "count_vect = CountVectorizer(analyzer='word', token_pattern=r'\\w{1,}')\n",
    "count_vect.fit(corpus)"
   ]
  },
  {
   "cell_type": "code",
   "execution_count": 28,
   "metadata": {},
   "outputs": [],
   "source": [
    "xtrain_count =  count_vect.transform(corpus)\n"
   ]
  },
  {
   "cell_type": "code",
   "execution_count": 29,
   "metadata": {},
   "outputs": [],
   "source": [
    "from sklearn import model_selection, preprocessing, linear_model, naive_bayes, metrics, svm\n",
    "from sklearn.feature_extraction.text import TfidfVectorizer, CountVectorizer\n",
    "from sklearn import decomposition, ensemble\n",
    "\n",
    "import pandas, xgboost, numpy, string\n"
   ]
  },
  {
   "cell_type": "code",
   "execution_count": 30,
   "metadata": {},
   "outputs": [
    {
     "data": {
      "text/plain": [
       "(20, 28517)"
      ]
     },
     "execution_count": 30,
     "metadata": {},
     "output_type": "execute_result"
    }
   ],
   "source": [
    "lda_model = decomposition.LatentDirichletAllocation(n_components=20, learning_method='online', max_iter=20)\n",
    "X_topics = lda_model.fit_transform(xtrain_count)\n",
    "topic_word = lda_model.components_ \n",
    "vocab = count_vect.get_feature_names()\n",
    "topic_word.shape"
   ]
  },
  {
   "cell_type": "code",
   "execution_count": 31,
   "metadata": {
    "scrolled": true
   },
   "outputs": [],
   "source": [
    "n_top_words = 20\n",
    "topic_summaries = []\n",
    "for i, topic_dist in enumerate(topic_word):\n",
    "    topic_words = numpy.array(vocab)[numpy.argsort(topic_dist)][:-(n_top_words+1):-1]\n",
    "    topic_summaries.append(' '.join(topic_words))"
   ]
  },
  {
   "cell_type": "code",
   "execution_count": 32,
   "metadata": {
    "scrolled": true
   },
   "outputs": [
    {
     "data": {
      "text/plain": [
       "array(['redskin', 'gruden', 'share', 'haskins', 'quarterback', 'annabel',\n",
       "       'loverro', 'guice', 'keenum', 'maruti', 'kanika', 'mccoy',\n",
       "       'kapoor', 'cornerback', 'suzuki', 'precious', 'bostic', 'peyton',\n",
       "       'woodrum', 'acl'], dtype='<U41')"
      ]
     },
     "execution_count": 32,
     "metadata": {},
     "output_type": "execute_result"
    }
   ],
   "source": [
    "topic_words"
   ]
  },
  {
   "cell_type": "markdown",
   "metadata": {},
   "source": [
    "# Fuzzy seq similarity using Levenstein"
   ]
  },
  {
   "cell_type": "code",
   "execution_count": 33,
   "metadata": {
    "scrolled": true
   },
   "outputs": [
    {
     "name": "stderr",
     "output_type": "stream",
     "text": [
      "c:\\users\\reliance\\appdata\\local\\programs\\python\\python37\\lib\\site-packages\\fuzzywuzzy\\fuzz.py:11: UserWarning: Using slow pure-python SequenceMatcher. Install python-Levenshtein to remove this warning\n",
      "  warnings.warn('Using slow pure-python SequenceMatcher. Install python-Levenshtein to remove this warning')\n"
     ]
    },
    {
     "data": {
      "text/plain": [
       "0"
      ]
     },
     "execution_count": 33,
     "metadata": {},
     "output_type": "execute_result"
    }
   ],
   "source": [
    "from fuzzywuzzy import fuzz\n",
    "fuzz.ratio(topic_summaries[3],corpus[979])"
   ]
  },
  {
   "cell_type": "code",
   "execution_count": 34,
   "metadata": {},
   "outputs": [
    {
     "data": {
      "text/plain": [
       "64"
      ]
     },
     "execution_count": 34,
     "metadata": {},
     "output_type": "execute_result"
    }
   ],
   "source": [
    "fuzz.ratio(\"computer lab\", \"computeYRY\")"
   ]
  },
  {
   "cell_type": "code",
   "execution_count": null,
   "metadata": {},
   "outputs": [],
   "source": [
    "label_topics=np.zeros((len(corpus),20))\n",
    "for i in range(len(corpus)):\n",
    "    for j in range(20):\n",
    "        label_topics[i,j]=fuzz.ratio(corpus[i],topic_summaries[j])"
   ]
  },
  {
   "cell_type": "code",
   "execution_count": 30,
   "metadata": {},
   "outputs": [
    {
     "data": {
      "text/plain": [
       "array([[ 2.,  1.,  2., ...,  2.,  2.,  2.],\n",
       "       [13., 12., 12., ..., 12., 13., 12.],\n",
       "       [ 9., 13.,  8., ..., 12., 12., 10.],\n",
       "       ...,\n",
       "       [11., 10.,  5., ...,  7.,  8.,  8.],\n",
       "       [ 6.,  4.,  7., ...,  5.,  5.,  7.],\n",
       "       [16., 18., 13., ..., 14., 19., 16.]])"
      ]
     },
     "execution_count": 30,
     "metadata": {},
     "output_type": "execute_result"
    }
   ],
   "source": [
    "label_topics"
   ]
  },
  {
   "cell_type": "code",
   "execution_count": null,
   "metadata": {},
   "outputs": [],
   "source": [
    "# String matching using Levenstein\n",
    "selected_topic=[]\n",
    "for i in range(len(corpus)):\n",
    "    selected_topic.append(list(label_topics[i]).index(max(label_topics[i])))"
   ]
  },
  {
   "cell_type": "code",
   "execution_count": null,
   "metadata": {},
   "outputs": [],
   "source": [
    "selected_topic.head()"
   ]
  },
  {
   "cell_type": "code",
   "execution_count": 32,
   "metadata": {
    "scrolled": true
   },
   "outputs": [
    {
     "data": {
      "text/plain": [
       "'roland quandt headphone jack phone good run like good thing eventually must end end seems finally arrived samsung upcoming galaxy note line last holdout trend ditching headphone jack appears samsung going note line leaked image shared thursday roland quandt sammobile seems pretty clear samsung planning mm headphone jack usb c dongle note plus dongle look like well headphone adapter different apple make iphones google make pixel signal end era showing samsung may indeed planning move without port going forward unclear samsung include dongle box like google charge separately like apple answer well samsung heavily rumored leaked next flagship likely need wait samsung unpacked event aug samsung immediately respond request comment'"
      ]
     },
     "execution_count": 32,
     "metadata": {},
     "output_type": "execute_result"
    }
   ],
   "source": [
    "corpus[2]"
   ]
  },
  {
   "cell_type": "code",
   "execution_count": 33,
   "metadata": {
    "scrolled": true
   },
   "outputs": [
    {
     "data": {
      "text/plain": [
       "'geoffrey morrison cnet autonomous sensory meridian response asmr thing apple added four video shot iphone youtube series wednesday tech giant uploaded video titled tapping scraping crunching whispering ghost forest minute long apple preface video note best enjoyed headphone tapping gentle rain sound accompanied visuals campsite scraping man working wood shop satisfying watch perfect wood shaving curl like visual asmr crunching sound footstep hiking along forest scenery finally whispering tell legend oregon neskowin ghost forest hushed tone video shot iphone x x max playing watch asmr video get made shot iphone series exhibit apple phone video capability user iphone xr x plus posted video channel well study describes asmr sensory phenomenon individual experience tingling static like sensation across scalp back neck time area response specific triggering audio visual stimulus'"
      ]
     },
     "execution_count": 33,
     "metadata": {},
     "output_type": "execute_result"
    }
   ],
   "source": [
    "corpus[3]"
   ]
  },
  {
   "cell_type": "code",
   "execution_count": 34,
   "metadata": {},
   "outputs": [
    {
     "data": {
      "text/plain": [
       "'sarah tew cnet adobe fresco make wish talent company ipad pro app painting sketching make wish apple pencil softer nib hey dream time lot painting apps littering app store brush better developed feature procreate seven set option every brush including ability adjust pencil behavior brush brush basis artrage custom paper type metallic paper ink feature complete beta fresco keeping night even come close fact missing lot crucial capability brush type charcoal airbrush palette knife smudging color jitter control ability save custom brush palette roadmap come blending stroke oil watercolor seen anything mobile come close fresco realism adobe credit apple latest graphic processor metal graphic api delivering speed necessary real time mixing watercolor see run screenshot lori grunin cnet adobe call live brush really brush behave way expect accurate retronym type act static brush really engineering distinction live brush live live painting pal pixel brush list includes sketching ink rake marker fresco handful vector brush editable like illustrator path resolution independent scale without jaggies flow like gel ink onto page one really felt like emerging hard apple pencil nib screenshot lori grunin cnet fresco brush engine generally compatible photoshop import standard brush moment adjust setting unsupported capability color jitter bring brush us respect existing jitter setting basic manual selection masking tool including useful option lock layer transparency use mask fresco designed feel natural artist pick use least people want need shortcut like importing existing mask reuse piece fresco project adobe capture favorite adobe mobile apps wish fresco worked better together wish fresco worked better library well fact despite ability open generate layered photoshop file produce illustrator editable pdfs fresco feel much like production tool difficulty repeatability reusability based recent discussion artist still seems gap flow mobile desktop maybe care fresco official pricing availability likely follow model per month inclusion creative cloud subscription la lightroom cc adobe holding max conference beginning november though instead shipping beforehand probably thunder stolen hopefully photoshop ipad currently run ipad specifically ipad pro model ipad air rd generation ipad th th generation ipad mini th generation may see stylus friendly platform lifetime'"
      ]
     },
     "execution_count": 34,
     "metadata": {},
     "output_type": "execute_result"
    }
   ],
   "source": [
    "corpus[4]"
   ]
  },
  {
   "cell_type": "code",
   "execution_count": 35,
   "metadata": {},
   "outputs": [
    {
     "data": {
      "text/html": [
       "<div>\n",
       "<style scoped>\n",
       "    .dataframe tbody tr th:only-of-type {\n",
       "        vertical-align: middle;\n",
       "    }\n",
       "\n",
       "    .dataframe tbody tr th {\n",
       "        vertical-align: top;\n",
       "    }\n",
       "\n",
       "    .dataframe thead th {\n",
       "        text-align: right;\n",
       "    }\n",
       "</style>\n",
       "<table border=\"1\" class=\"dataframe\">\n",
       "  <thead>\n",
       "    <tr style=\"text-align: right;\">\n",
       "      <th></th>\n",
       "      <th>text</th>\n",
       "      <th>topic</th>\n",
       "    </tr>\n",
       "  </thead>\n",
       "  <tbody>\n",
       "    <tr>\n",
       "      <th>0</th>\n",
       "      <td>dhara singh cnet twelve mile hustle bustle tim...</td>\n",
       "      <td>0</td>\n",
       "    </tr>\n",
       "    <tr>\n",
       "      <th>1</th>\n",
       "      <td>bbc doctor streaming exclusively hbo max next ...</td>\n",
       "      <td>8</td>\n",
       "    </tr>\n",
       "    <tr>\n",
       "      <th>2</th>\n",
       "      <td>roland quandt headphone jack phone good run li...</td>\n",
       "      <td>8</td>\n",
       "    </tr>\n",
       "    <tr>\n",
       "      <th>3</th>\n",
       "      <td>geoffrey morrison cnet autonomous sensory meri...</td>\n",
       "      <td>1</td>\n",
       "    </tr>\n",
       "    <tr>\n",
       "      <th>4</th>\n",
       "      <td>sarah tew cnet adobe fresco make wish talent c...</td>\n",
       "      <td>5</td>\n",
       "    </tr>\n",
       "    <tr>\n",
       "      <th>5</th>\n",
       "      <td>video screenshot amanda kooser cnet starship p...</td>\n",
       "      <td>13</td>\n",
       "    </tr>\n",
       "    <tr>\n",
       "      <th>6</th>\n",
       "      <td>sarah tew cnet macbook pro banned flight u avi...</td>\n",
       "      <td>7</td>\n",
       "    </tr>\n",
       "    <tr>\n",
       "      <th>7</th>\n",
       "      <td>enlarge image lexus lexus lc series car little...</td>\n",
       "      <td>2</td>\n",
       "    </tr>\n",
       "    <tr>\n",
       "      <th>8</th>\n",
       "      <td>james martin cnet president donald trump tweet...</td>\n",
       "      <td>17</td>\n",
       "    </tr>\n",
       "    <tr>\n",
       "      <th>9</th>\n",
       "      <td>getty image credit karma user able see people ...</td>\n",
       "      <td>5</td>\n",
       "    </tr>\n",
       "    <tr>\n",
       "      <th>10</th>\n",
       "      <td>le month since chevrolet corvette stingray bow...</td>\n",
       "      <td>14</td>\n",
       "    </tr>\n",
       "    <tr>\n",
       "      <th>11</th>\n",
       "      <td>enlarge image larry chen aprilia pike peak int...</td>\n",
       "      <td>4</td>\n",
       "    </tr>\n",
       "    <tr>\n",
       "      <th>12</th>\n",
       "      <td>amazon studio first glance katie licata instag...</td>\n",
       "      <td>1</td>\n",
       "    </tr>\n",
       "    <tr>\n",
       "      <th>13</th>\n",
       "      <td>pete saloutos looking something past midnight ...</td>\n",
       "      <td>0</td>\n",
       "    </tr>\n",
       "    <tr>\n",
       "      <th>14</th>\n",
       "      <td>getty google want make easier people find podc...</td>\n",
       "      <td>0</td>\n",
       "    </tr>\n",
       "    <tr>\n",
       "      <th>15</th>\n",
       "      <td>nicole rivelli amazon studio want look marvelo...</td>\n",
       "      <td>1</td>\n",
       "    </tr>\n",
       "    <tr>\n",
       "      <th>16</th>\n",
       "      <td>enlarge image lexus advent model year lexus lx...</td>\n",
       "      <td>0</td>\n",
       "    </tr>\n",
       "    <tr>\n",
       "      <th>17</th>\n",
       "      <td>enlarge image sarah tew cnet half wearable spe...</td>\n",
       "      <td>0</td>\n",
       "    </tr>\n",
       "    <tr>\n",
       "      <th>18</th>\n",
       "      <td>sarah tew cnet samsung second g phone galaxy n...</td>\n",
       "      <td>5</td>\n",
       "    </tr>\n",
       "    <tr>\n",
       "      <th>19</th>\n",
       "      <td>august mean student heading back school next w...</td>\n",
       "      <td>0</td>\n",
       "    </tr>\n",
       "    <tr>\n",
       "      <th>20</th>\n",
       "      <td>epic game season fortnite offered big change w...</td>\n",
       "      <td>5</td>\n",
       "    </tr>\n",
       "    <tr>\n",
       "      <th>21</th>\n",
       "      <td>sopa image mobile carrier prepare deploy g net...</td>\n",
       "      <td>0</td>\n",
       "    </tr>\n",
       "    <tr>\n",
       "      <th>22</th>\n",
       "      <td>enlarge image novitec tesla model favorite car...</td>\n",
       "      <td>2</td>\n",
       "    </tr>\n",
       "    <tr>\n",
       "      <th>23</th>\n",
       "      <td>watch mtv video music award without cable lear...</td>\n",
       "      <td>8</td>\n",
       "    </tr>\n",
       "    <tr>\n",
       "      <th>24</th>\n",
       "      <td>screenshot lori grunin cnet nvidia gaugan comp...</td>\n",
       "      <td>13</td>\n",
       "    </tr>\n",
       "    <tr>\n",
       "      <th>25</th>\n",
       "      <td>enlarge image chevrolet mid engine chevrolet c...</td>\n",
       "      <td>7</td>\n",
       "    </tr>\n",
       "    <tr>\n",
       "      <th>26</th>\n",
       "      <td>snap snap unveiled third version snapchat spec...</td>\n",
       "      <td>10</td>\n",
       "    </tr>\n",
       "    <tr>\n",
       "      <th>27</th>\n",
       "      <td>pokemon company pokemon company celebrating up...</td>\n",
       "      <td>0</td>\n",
       "    </tr>\n",
       "    <tr>\n",
       "      <th>28</th>\n",
       "      <td>angela lang cnet youtube changed recommendatio...</td>\n",
       "      <td>11</td>\n",
       "    </tr>\n",
       "    <tr>\n",
       "      <th>29</th>\n",
       "      <td>sarah tew cnet kind cord cutter want experienc...</td>\n",
       "      <td>0</td>\n",
       "    </tr>\n",
       "    <tr>\n",
       "      <th>...</th>\n",
       "      <td>...</td>\n",
       "      <td>...</td>\n",
       "    </tr>\n",
       "    <tr>\n",
       "      <th>1505</th>\n",
       "      <td>nikita wagh born november ileana cruz born mum...</td>\n",
       "      <td>14</td>\n",
       "    </tr>\n",
       "    <tr>\n",
       "      <th>1506</th>\n",
       "      <td>maruti suzuki recently launched xl followed co...</td>\n",
       "      <td>2</td>\n",
       "    </tr>\n",
       "    <tr>\n",
       "      <th>1507</th>\n",
       "      <td>chia seed officially transitioned trendy mains...</td>\n",
       "      <td>4</td>\n",
       "    </tr>\n",
       "    <tr>\n",
       "      <th>1508</th>\n",
       "      <td>getty image york york august roger federer swi...</td>\n",
       "      <td>10</td>\n",
       "    </tr>\n",
       "    <tr>\n",
       "      <th>1509</th>\n",
       "      <td>getty recording double digit revenue growth in...</td>\n",
       "      <td>5</td>\n",
       "    </tr>\n",
       "    <tr>\n",
       "      <th>1510</th>\n",
       "      <td>bad old day car rusting time first service tha...</td>\n",
       "      <td>5</td>\n",
       "    </tr>\n",
       "    <tr>\n",
       "      <th>1511</th>\n",
       "      <td>way verify income tax return duration verifica...</td>\n",
       "      <td>0</td>\n",
       "    </tr>\n",
       "    <tr>\n",
       "      <th>1512</th>\n",
       "      <td>older browser version please use supported ver...</td>\n",
       "      <td>7</td>\n",
       "    </tr>\n",
       "    <tr>\n",
       "      <th>1513</th>\n",
       "      <td>older browser version please use supported ver...</td>\n",
       "      <td>7</td>\n",
       "    </tr>\n",
       "    <tr>\n",
       "      <th>1514</th>\n",
       "      <td>replay video setting hd hq sd lo video provide...</td>\n",
       "      <td>0</td>\n",
       "    </tr>\n",
       "    <tr>\n",
       "      <th>1515</th>\n",
       "      <td>day ahead release india first reaction saaho a...</td>\n",
       "      <td>0</td>\n",
       "    </tr>\n",
       "    <tr>\n",
       "      <th>1516</th>\n",
       "      <td>older browser version please use supported ver...</td>\n",
       "      <td>7</td>\n",
       "    </tr>\n",
       "    <tr>\n",
       "      <th>1517</th>\n",
       "      <td>maruti suzuki india launched initiative known ...</td>\n",
       "      <td>3</td>\n",
       "    </tr>\n",
       "    <tr>\n",
       "      <th>1518</th>\n",
       "      <td>singer kanika kapoor fair amount struggle life...</td>\n",
       "      <td>0</td>\n",
       "    </tr>\n",
       "    <tr>\n",
       "      <th>1519</th>\n",
       "      <td>older browser version please use supported ver...</td>\n",
       "      <td>7</td>\n",
       "    </tr>\n",
       "    <tr>\n",
       "      <th>1520</th>\n",
       "      <td>sanjeev verma hindustan time getty haryana chi...</td>\n",
       "      <td>15</td>\n",
       "    </tr>\n",
       "    <tr>\n",
       "      <th>1521</th>\n",
       "      <td>india elavenil valarivan became third shooter ...</td>\n",
       "      <td>9</td>\n",
       "    </tr>\n",
       "    <tr>\n",
       "      <th>1522</th>\n",
       "      <td>older browser version please use supported ver...</td>\n",
       "      <td>7</td>\n",
       "    </tr>\n",
       "    <tr>\n",
       "      <th>1523</th>\n",
       "      <td>older browser version please use supported ver...</td>\n",
       "      <td>7</td>\n",
       "    </tr>\n",
       "    <tr>\n",
       "      <th>1524</th>\n",
       "      <td>lavish lair world worst dictator daniel coughl...</td>\n",
       "      <td>2</td>\n",
       "    </tr>\n",
       "    <tr>\n",
       "      <th>1525</th>\n",
       "      <td>eaten three serving vegetable today photo cour...</td>\n",
       "      <td>15</td>\n",
       "    </tr>\n",
       "    <tr>\n",
       "      <th>1526</th>\n",
       "      <td>older browser version please use supported ver...</td>\n",
       "      <td>7</td>\n",
       "    </tr>\n",
       "    <tr>\n",
       "      <th>1527</th>\n",
       "      <td>replay video setting hd hq sd lo prime ministe...</td>\n",
       "      <td>7</td>\n",
       "    </tr>\n",
       "    <tr>\n",
       "      <th>1528</th>\n",
       "      <td>trailer zoya factor provided statesman net pri...</td>\n",
       "      <td>2</td>\n",
       "    </tr>\n",
       "    <tr>\n",
       "      <th>1529</th>\n",
       "      <td>pratiksha mestry personal front sunny leone ma...</td>\n",
       "      <td>13</td>\n",
       "    </tr>\n",
       "    <tr>\n",
       "      <th>1530</th>\n",
       "      <td>well iphone x face id work secure duration app...</td>\n",
       "      <td>2</td>\n",
       "    </tr>\n",
       "    <tr>\n",
       "      <th>1531</th>\n",
       "      <td>older browser version please use supported ver...</td>\n",
       "      <td>7</td>\n",
       "    </tr>\n",
       "    <tr>\n",
       "      <th>1532</th>\n",
       "      <td>getty image major change proposed income tax a...</td>\n",
       "      <td>0</td>\n",
       "    </tr>\n",
       "    <tr>\n",
       "      <th>1533</th>\n",
       "      <td>reuters reserve bank india set release annual ...</td>\n",
       "      <td>7</td>\n",
       "    </tr>\n",
       "    <tr>\n",
       "      <th>1534</th>\n",
       "      <td>gabrielle olya city ollolai italy currently se...</td>\n",
       "      <td>12</td>\n",
       "    </tr>\n",
       "  </tbody>\n",
       "</table>\n",
       "<p>1535 rows × 2 columns</p>\n",
       "</div>"
      ],
      "text/plain": [
       "                                                   text  topic\n",
       "0     dhara singh cnet twelve mile hustle bustle tim...      0\n",
       "1     bbc doctor streaming exclusively hbo max next ...      8\n",
       "2     roland quandt headphone jack phone good run li...      8\n",
       "3     geoffrey morrison cnet autonomous sensory meri...      1\n",
       "4     sarah tew cnet adobe fresco make wish talent c...      5\n",
       "5     video screenshot amanda kooser cnet starship p...     13\n",
       "6     sarah tew cnet macbook pro banned flight u avi...      7\n",
       "7     enlarge image lexus lexus lc series car little...      2\n",
       "8     james martin cnet president donald trump tweet...     17\n",
       "9     getty image credit karma user able see people ...      5\n",
       "10    le month since chevrolet corvette stingray bow...     14\n",
       "11    enlarge image larry chen aprilia pike peak int...      4\n",
       "12    amazon studio first glance katie licata instag...      1\n",
       "13    pete saloutos looking something past midnight ...      0\n",
       "14    getty google want make easier people find podc...      0\n",
       "15    nicole rivelli amazon studio want look marvelo...      1\n",
       "16    enlarge image lexus advent model year lexus lx...      0\n",
       "17    enlarge image sarah tew cnet half wearable spe...      0\n",
       "18    sarah tew cnet samsung second g phone galaxy n...      5\n",
       "19    august mean student heading back school next w...      0\n",
       "20    epic game season fortnite offered big change w...      5\n",
       "21    sopa image mobile carrier prepare deploy g net...      0\n",
       "22    enlarge image novitec tesla model favorite car...      2\n",
       "23    watch mtv video music award without cable lear...      8\n",
       "24    screenshot lori grunin cnet nvidia gaugan comp...     13\n",
       "25    enlarge image chevrolet mid engine chevrolet c...      7\n",
       "26    snap snap unveiled third version snapchat spec...     10\n",
       "27    pokemon company pokemon company celebrating up...      0\n",
       "28    angela lang cnet youtube changed recommendatio...     11\n",
       "29    sarah tew cnet kind cord cutter want experienc...      0\n",
       "...                                                 ...    ...\n",
       "1505  nikita wagh born november ileana cruz born mum...     14\n",
       "1506  maruti suzuki recently launched xl followed co...      2\n",
       "1507  chia seed officially transitioned trendy mains...      4\n",
       "1508  getty image york york august roger federer swi...     10\n",
       "1509  getty recording double digit revenue growth in...      5\n",
       "1510  bad old day car rusting time first service tha...      5\n",
       "1511  way verify income tax return duration verifica...      0\n",
       "1512  older browser version please use supported ver...      7\n",
       "1513  older browser version please use supported ver...      7\n",
       "1514  replay video setting hd hq sd lo video provide...      0\n",
       "1515  day ahead release india first reaction saaho a...      0\n",
       "1516  older browser version please use supported ver...      7\n",
       "1517  maruti suzuki india launched initiative known ...      3\n",
       "1518  singer kanika kapoor fair amount struggle life...      0\n",
       "1519  older browser version please use supported ver...      7\n",
       "1520  sanjeev verma hindustan time getty haryana chi...     15\n",
       "1521  india elavenil valarivan became third shooter ...      9\n",
       "1522  older browser version please use supported ver...      7\n",
       "1523  older browser version please use supported ver...      7\n",
       "1524  lavish lair world worst dictator daniel coughl...      2\n",
       "1525  eaten three serving vegetable today photo cour...     15\n",
       "1526  older browser version please use supported ver...      7\n",
       "1527  replay video setting hd hq sd lo prime ministe...      7\n",
       "1528  trailer zoya factor provided statesman net pri...      2\n",
       "1529  pratiksha mestry personal front sunny leone ma...     13\n",
       "1530  well iphone x face id work secure duration app...      2\n",
       "1531  older browser version please use supported ver...      7\n",
       "1532  getty image major change proposed income tax a...      0\n",
       "1533  reuters reserve bank india set release annual ...      7\n",
       "1534  gabrielle olya city ollolai italy currently se...     12\n",
       "\n",
       "[1535 rows x 2 columns]"
      ]
     },
     "execution_count": 35,
     "metadata": {},
     "output_type": "execute_result"
    }
   ],
   "source": [
    "data=pd.DataFrame({\"text\":corpus, \"topic\":selected_topic})\n",
    "data.head()"
   ]
  },
  {
   "cell_type": "markdown",
   "metadata": {},
   "source": [
    "# Multinomial NB"
   ]
  },
  {
   "cell_type": "code",
   "execution_count": 36,
   "metadata": {},
   "outputs": [],
   "source": [
    "from sklearn.model_selection import train_test_split\n",
    "from sklearn.feature_extraction.text import CountVectorizer\n",
    "from sklearn.feature_extraction.text import TfidfTransformer\n",
    "from sklearn.naive_bayes import MultinomialNB\n",
    "X_train, X_test, y_train, y_test = train_test_split(data['text'], data['topic'],test_size=0.4)\n",
    "count_vect = CountVectorizer()\n",
    "X_train_counts = count_vect.fit_transform(X_train)\n",
    "tfidf_transformer = TfidfTransformer()\n",
    "X_train_tfidf = tfidf_transformer.fit_transform(X_train_counts)\n",
    "clf = MultinomialNB().fit(X_train_counts, y_train)"
   ]
  },
  {
   "cell_type": "code",
   "execution_count": 37,
   "metadata": {
    "scrolled": true
   },
   "outputs": [
    {
     "data": {
      "text/plain": [
       "'took golf ball sized hail total prius brutal enough hard time wrapping head around hail long roll toilet paper national weather service office boulder colorado goodland kansa near colorado border looking report near record size hail storm week colorado kktv meteorologist brian bledsoe tuesday posted photo massive hailstone collected near bethune colorado said working verifying size hail could end beating state record inch centimeter ice chunk nwsboulder nwsgoodland verifying look record setting hailstone cowx told fell near bethune afternoon would easily beat record given way radar looked surprised stay tuned pic twitter com liuaziln r brian bledsoe brianbledsoe august still trying verify largest hailstone fell near otis washington county picture diameter state record see http co ukuzsmhf cowx cohail nw boulder nwsboulder august current colorado state hail size record set met many time recently adam county hail fell near small town otis northeastern colorado sunday weather service office boulder investigating hail picture inch diameter office tweeted monday nw goodland office jumped fray eye popping image shared tuesday hailstone look big softball received picture facebook comment facebook post hail bethune asked save hail stone freezing heard response yet pic twitter com bmiexiyvz nw goodland nwsgoodland august colorado climate center helping record verification hailstone organization tweeted tip preserving hail starting gathering sample safe take photo ruler object known size avoid heating stone hand place freezer alone plastic bag soon possible hope find sometime week icy behemoth broke colorado state record grateful fall car'"
      ]
     },
     "execution_count": 37,
     "metadata": {},
     "output_type": "execute_result"
    }
   ],
   "source": [
    "X_test_list=list(X_test)\n",
    "X_test_list[0]"
   ]
  },
  {
   "cell_type": "code",
   "execution_count": 38,
   "metadata": {},
   "outputs": [],
   "source": [
    "pred=[]\n",
    "for i in range(len(X_test_list)):\n",
    "    pred.append(int(str(clf.predict(count_vect.transform([X_test_list[i]])))[1:-1]))"
   ]
  },
  {
   "cell_type": "code",
   "execution_count": 39,
   "metadata": {},
   "outputs": [],
   "source": [
    "predictions=pd.DataFrame({'MultinomialNB predictions':pred})"
   ]
  },
  {
   "cell_type": "code",
   "execution_count": null,
   "metadata": {},
   "outputs": [],
   "source": []
  },
  {
   "cell_type": "code",
   "execution_count": 41,
   "metadata": {},
   "outputs": [
    {
     "name": "stdout",
     "output_type": "stream",
     "text": [
      "              precision    recall  f1-score   support\n",
      "\n",
      "           0       0.24      0.53      0.33       127\n",
      "           1       0.02      0.02      0.02        42\n",
      "           2       0.10      0.02      0.04        46\n",
      "           3       0.00      0.00      0.00        30\n",
      "           4       0.11      0.05      0.07        58\n",
      "           5       0.19      0.07      0.10        43\n",
      "           6       0.00      0.00      0.00         1\n",
      "           7       0.86      0.17      0.28        36\n",
      "           8       0.20      0.45      0.28        98\n",
      "           9       0.00      0.00      0.00        18\n",
      "          10       0.00      0.00      0.00        25\n",
      "          11       0.00      0.00      0.00        12\n",
      "          12       0.00      0.00      0.00        15\n",
      "          13       0.08      0.04      0.05        27\n",
      "          14       0.00      0.00      0.00         3\n",
      "          15       0.00      0.00      0.00        14\n",
      "          16       0.00      0.00      0.00         2\n",
      "          17       0.00      0.00      0.00         9\n",
      "          18       0.00      0.00      0.00         6\n",
      "          19       0.00      0.00      0.00         2\n",
      "\n",
      "   micro avg       0.21      0.21      0.21       614\n",
      "   macro avg       0.09      0.07      0.06       614\n",
      "weighted avg       0.17      0.21      0.15       614\n",
      "\n"
     ]
    },
    {
     "name": "stderr",
     "output_type": "stream",
     "text": [
      "c:\\users\\reliance\\appdata\\local\\programs\\python\\python37\\lib\\site-packages\\sklearn\\metrics\\classification.py:1143: UndefinedMetricWarning: Precision and F-score are ill-defined and being set to 0.0 in labels with no predicted samples.\n",
      "  'precision', 'predicted', average, warn_for)\n"
     ]
    }
   ],
   "source": [
    "from sklearn import metrics\n",
    "print(metrics.classification_report(y_test, pred))"
   ]
  },
  {
   "cell_type": "code",
   "execution_count": 42,
   "metadata": {
    "scrolled": false
   },
   "outputs": [
    {
     "ename": "NameError",
     "evalue": "name 'nb_pred' is not defined",
     "output_type": "error",
     "traceback": [
      "\u001b[1;31m---------------------------------------------------------------------------\u001b[0m",
      "\u001b[1;31mNameError\u001b[0m                                 Traceback (most recent call last)",
      "\u001b[1;32m<ipython-input-42-ff44873469a1>\u001b[0m in \u001b[0;36m<module>\u001b[1;34m\u001b[0m\n\u001b[0;32m      1\u001b[0m \u001b[1;32mfrom\u001b[0m \u001b[0msklearn\u001b[0m\u001b[1;33m.\u001b[0m\u001b[0mmetrics\u001b[0m \u001b[1;32mimport\u001b[0m \u001b[0mconfusion_matrix\u001b[0m\u001b[1;33m\u001b[0m\u001b[1;33m\u001b[0m\u001b[0m\n\u001b[1;32m----> 2\u001b[1;33m \u001b[0mcm\u001b[0m\u001b[1;33m=\u001b[0m\u001b[0mconfusion_matrix\u001b[0m\u001b[1;33m(\u001b[0m\u001b[0my_test\u001b[0m\u001b[1;33m,\u001b[0m \u001b[0mnb_pred\u001b[0m\u001b[1;33m)\u001b[0m\u001b[1;33m\u001b[0m\u001b[1;33m\u001b[0m\u001b[0m\n\u001b[0m\u001b[0;32m      3\u001b[0m \u001b[1;32mimport\u001b[0m \u001b[0mseaborn\u001b[0m \u001b[1;32mas\u001b[0m \u001b[0msns\u001b[0m\u001b[1;33m\u001b[0m\u001b[1;33m\u001b[0m\u001b[0m\n\u001b[0;32m      4\u001b[0m \u001b[0msns\u001b[0m\u001b[1;33m.\u001b[0m\u001b[0mheatmap\u001b[0m\u001b[1;33m(\u001b[0m\u001b[0mcm\u001b[0m\u001b[1;33m,\u001b[0m \u001b[0mannot\u001b[0m\u001b[1;33m=\u001b[0m\u001b[1;32mTrue\u001b[0m\u001b[1;33m)\u001b[0m\u001b[1;33m\u001b[0m\u001b[1;33m\u001b[0m\u001b[0m\n",
      "\u001b[1;31mNameError\u001b[0m: name 'nb_pred' is not defined"
     ]
    }
   ],
   "source": [
    "from sklearn.metrics import confusion_matrix\n",
    "cm=confusion_matrix(y_test, nb_pred)\n",
    "import seaborn as sns\n",
    "sns.heatmap(cm, annot=True)"
   ]
  },
  {
   "cell_type": "code",
   "execution_count": null,
   "metadata": {},
   "outputs": [],
   "source": [
    "metrics.f1_score(y_test, pred, average='weighted')"
   ]
  },
  {
   "cell_type": "markdown",
   "metadata": {},
   "source": [
    "# Random forest"
   ]
  },
  {
   "cell_type": "code",
   "execution_count": null,
   "metadata": {},
   "outputs": [],
   "source": [
    "from sklearn.ensemble import RandomForestClassifier\n",
    "classifier = RandomForestClassifier(n_estimators = 10, criterion = 'entropy', random_state = 42)\n",
    "classifier.fit(X_train_counts, y_train)"
   ]
  },
  {
   "cell_type": "code",
   "execution_count": null,
   "metadata": {},
   "outputs": [],
   "source": [
    "classifier.predict(count_vect.transform([X_test_list[200]]))"
   ]
  },
  {
   "cell_type": "code",
   "execution_count": 36,
   "metadata": {},
   "outputs": [
    {
     "ename": "NameError",
     "evalue": "name 'X_test_list' is not defined",
     "output_type": "error",
     "traceback": [
      "\u001b[1;31m---------------------------------------------------------------------------\u001b[0m",
      "\u001b[1;31mNameError\u001b[0m                                 Traceback (most recent call last)",
      "\u001b[1;32m<ipython-input-36-f514b98bbf48>\u001b[0m in \u001b[0;36m<module>\u001b[1;34m\u001b[0m\n\u001b[0;32m      2\u001b[0m \u001b[1;31m# model accuracy for X_test\u001b[0m\u001b[1;33m\u001b[0m\u001b[1;33m\u001b[0m\u001b[1;33m\u001b[0m\u001b[0m\n\u001b[0;32m      3\u001b[0m \u001b[1;31m#accuracy = svm_model_linear.score(count_vect.transform([X_test_list[i]]), y_test)\u001b[0m\u001b[1;33m\u001b[0m\u001b[1;33m\u001b[0m\u001b[1;33m\u001b[0m\u001b[0m\n\u001b[1;32m----> 4\u001b[1;33m \u001b[1;32mfor\u001b[0m \u001b[0mi\u001b[0m \u001b[1;32min\u001b[0m \u001b[0mrange\u001b[0m\u001b[1;33m(\u001b[0m\u001b[0mlen\u001b[0m\u001b[1;33m(\u001b[0m\u001b[0mX_test_list\u001b[0m\u001b[1;33m)\u001b[0m\u001b[1;33m)\u001b[0m\u001b[1;33m:\u001b[0m\u001b[1;33m\u001b[0m\u001b[1;33m\u001b[0m\u001b[0m\n\u001b[0m\u001b[0;32m      5\u001b[0m     \u001b[0mrf_predictions\u001b[0m\u001b[1;33m.\u001b[0m\u001b[0mappend\u001b[0m\u001b[1;33m(\u001b[0m\u001b[0mint\u001b[0m\u001b[1;33m(\u001b[0m\u001b[0mstr\u001b[0m\u001b[1;33m(\u001b[0m\u001b[0mclassifier\u001b[0m\u001b[1;33m.\u001b[0m\u001b[0mpredict\u001b[0m\u001b[1;33m(\u001b[0m\u001b[0mcount_vect\u001b[0m\u001b[1;33m.\u001b[0m\u001b[0mtransform\u001b[0m\u001b[1;33m(\u001b[0m\u001b[1;33m[\u001b[0m\u001b[0mX_test_list\u001b[0m\u001b[1;33m[\u001b[0m\u001b[0mi\u001b[0m\u001b[1;33m]\u001b[0m\u001b[1;33m]\u001b[0m\u001b[1;33m)\u001b[0m\u001b[1;33m)\u001b[0m\u001b[1;33m)\u001b[0m\u001b[1;33m[\u001b[0m\u001b[1;36m1\u001b[0m\u001b[1;33m:\u001b[0m\u001b[1;33m-\u001b[0m\u001b[1;36m1\u001b[0m\u001b[1;33m]\u001b[0m\u001b[1;33m)\u001b[0m\u001b[1;33m)\u001b[0m\u001b[1;33m\u001b[0m\u001b[1;33m\u001b[0m\u001b[0m\n\u001b[0;32m      6\u001b[0m \u001b[1;31m# creating a confusion matrix\u001b[0m\u001b[1;33m\u001b[0m\u001b[1;33m\u001b[0m\u001b[1;33m\u001b[0m\u001b[0m\n",
      "\u001b[1;31mNameError\u001b[0m: name 'X_test_list' is not defined"
     ]
    }
   ],
   "source": [
    "rf_predictions=[] \n",
    "# model accuracy for X_test   \n",
    "#accuracy = svm_model_linear.score(count_vect.transform([X_test_list[i]]), y_test) \n",
    "for i in range(len(X_test_list)): \n",
    "    rf_predictions.append(int(str(classifier.predict(count_vect.transform([X_test_list[i]])))[1:-1]))\n",
    "# creating a confusion matrix \n"
   ]
  },
  {
   "cell_type": "code",
   "execution_count": null,
   "metadata": {},
   "outputs": [],
   "source": [
    "predictions['RF predictions']=rf_predictions"
   ]
  },
  {
   "cell_type": "code",
   "execution_count": null,
   "metadata": {},
   "outputs": [],
   "source": [
    "from sklearn.metrics import confusion_matrix\n",
    "cm=confusion_matrix(y_test, rf_predictions)\n",
    "import seaborn as sns\n",
    "sns.heatmap(cm, annot=True)"
   ]
  },
  {
   "cell_type": "code",
   "execution_count": null,
   "metadata": {
    "scrolled": true
   },
   "outputs": [],
   "source": [
    "\n",
    "from sklearn import metrics\n",
    "print(metrics.classification_report(y_test, rf_predictions))"
   ]
  },
  {
   "cell_type": "code",
   "execution_count": null,
   "metadata": {},
   "outputs": [],
   "source": [
    "metrics.f1_score(y_test, rf_predictions, average='weighted')"
   ]
  },
  {
   "cell_type": "markdown",
   "metadata": {},
   "source": [
    "# kNN"
   ]
  },
  {
   "cell_type": "code",
   "execution_count": null,
   "metadata": {},
   "outputs": [],
   "source": [
    "error = []\n",
    "for i in range(1, 40):\n",
    "    knn = KNeighborsClassifier(n_neighbors=i)\n",
    "    knn.fit(X_train_tfidf, y_train)\n",
    "    pred_i = knn.predict(count_vect.transform(X_test_list))\n",
    "    error.append(np.mean(pred_i != y_test))"
   ]
  },
  {
   "cell_type": "code",
   "execution_count": null,
   "metadata": {
    "scrolled": true
   },
   "outputs": [],
   "source": [
    "plt.figure(figsize=(12, 6))\n",
    "plt.plot(range(1, 40), error, color='red', linestyle='dashed', marker='o',\n",
    "         markerfacecolor='blue', markersize=10)\n",
    "plt.title('Error Rate K Value')\n",
    "plt.xlabel('K Value')\n",
    "plt.ylabel('Mean Error')"
   ]
  },
  {
   "cell_type": "code",
   "execution_count": null,
   "metadata": {},
   "outputs": [],
   "source": [
    "from sklearn.neighbors import KNeighborsClassifier\n",
    "\n",
    "model = KNeighborsClassifier(n_neighbors=18)\n",
    "\n",
    "# Train the model using the training sets\n",
    "model.fit(X_train_tfidf, y_train)"
   ]
  },
  {
   "cell_type": "code",
   "execution_count": null,
   "metadata": {},
   "outputs": [],
   "source": [
    "knn_predictions=[] \n",
    "# model accuracy for X_test   \n",
    "#accuracy = svm_model_linear.score(count_vect.transform([X_test_list[i]]), y_test) \n",
    "for i in range(len(X_test_list)): \n",
    "    knn_predictions.append(int(str(model.predict(count_vect.transform([X_test_list[i]])))[1:-1]))\n",
    "# creating a confusion matrix \n",
    "knn_predictions"
   ]
  },
  {
   "cell_type": "code",
   "execution_count": null,
   "metadata": {},
   "outputs": [],
   "source": [
    "predictions['kNN predictions']=knn_predictions"
   ]
  },
  {
   "cell_type": "code",
   "execution_count": null,
   "metadata": {},
   "outputs": [],
   "source": [
    "from sklearn.metrics import confusion_matrix\n",
    "cm=confusion_matrix(y_test, knn_predictions)\n",
    "import seaborn as sns\n",
    "sns.heatmap(cm, annot=True)"
   ]
  },
  {
   "cell_type": "code",
   "execution_count": null,
   "metadata": {},
   "outputs": [],
   "source": [
    "metrics.f1_score(y_test, knn_predictions, average='weighted')"
   ]
  },
  {
   "cell_type": "code",
   "execution_count": null,
   "metadata": {},
   "outputs": [],
   "source": [
    "from sklearn import metrics\n",
    "print(metrics.classification_report(y_test, knn_predictions))"
   ]
  },
  {
   "cell_type": "code",
   "execution_count": null,
   "metadata": {},
   "outputs": [],
   "source": [
    "def small_links(link_list,term):\n",
    "    a=[]\n",
    "    for i in range(len(link_list)):\n",
    "        if i not in a\n",
    "        a.append(link_list[i])\n",
    "        \n",
    "        "
   ]
  },
  {
   "cell_type": "code",
   "execution_count": null,
   "metadata": {},
   "outputs": [],
   "source": []
  },
  {
   "cell_type": "code",
   "execution_count": null,
   "metadata": {},
   "outputs": [],
   "source": []
  }
 ],
 "metadata": {
  "kernelspec": {
   "display_name": "Python 3",
   "language": "python",
   "name": "python3"
  },
  "language_info": {
   "codemirror_mode": {
    "name": "ipython",
    "version": 3
   },
   "file_extension": ".py",
   "mimetype": "text/x-python",
   "name": "python",
   "nbconvert_exporter": "python",
   "pygments_lexer": "ipython3",
   "version": "3.7.2"
  }
 },
 "nbformat": 4,
 "nbformat_minor": 2
}
